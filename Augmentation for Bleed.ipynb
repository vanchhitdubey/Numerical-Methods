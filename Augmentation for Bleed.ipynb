{
 "cells": [
  {
   "cell_type": "code",
   "execution_count": 37,
   "id": "f5adbdd5",
   "metadata": {},
   "outputs": [],
   "source": [
    "import os\n",
    "import numpy as np\n",
    "import cv2\n",
    "from glob import glob\n",
    "from tqdm import tqdm\n",
    "from sklearn.model_selection import train_test_split\n",
    "from albumentations import HorizontalFlip, VerticalFlip, Rotate\n",
    "import tensorflow as tf"
   ]
  },
  {
   "cell_type": "code",
   "execution_count": 38,
   "id": "b564c0cc",
   "metadata": {},
   "outputs": [],
   "source": [
    "def create_dir(path):\n",
    "    if not os.path.exists(path):\n",
    "        os.makedirs(path)"
   ]
  },
  {
   "cell_type": "code",
   "execution_count": 39,
   "id": "6b83b13a",
   "metadata": {},
   "outputs": [],
   "source": [
    "images_path = glob(r\"C:\\Users\\vanch\\Downloads\\dataset\\dataset\\images\\*.png\")\n",
    "mask_path = glob(r\"C:\\Users\\vanch\\Downloads\\dataset\\dataset\\masks\\*.png\")"
   ]
  },
  {
   "cell_type": "code",
   "execution_count": 40,
   "id": "2c92a567",
   "metadata": {},
   "outputs": [],
   "source": [
    "t = images_path[1].split('\\\\')[-1].split('png')[0][:-1]\n",
    "import matplotlib.pyplot as plt"
   ]
  },
  {
   "cell_type": "code",
   "execution_count": 57,
   "id": "630d584c",
   "metadata": {},
   "outputs": [],
   "source": [
    "def augment_data(image_path, mask_path, save_path, H=512, W=512):\n",
    "    \n",
    "    \n",
    "    for idx, (x,y) in enumerate(zip(image_path, mask_path)):\n",
    "        \n",
    "        name_img  = x.split('\\\\')[-1].split('png')[0][:-1]\n",
    "        \n",
    "        img =  cv2.imread(x, cv2.IMREAD_COLOR)\n",
    "        mask = cv2.imread(y, cv2.IMREAD_COLOR)\n",
    "        \n",
    "        aug = HorizontalFlip(p=1.0)\n",
    "        augmented = aug(image=img, mask = mask)\n",
    "        x1 = augmented[\"image\"]\n",
    "        y1 = augmented[\"mask\"]\n",
    "        \n",
    "        X = [x1]\n",
    "        Y = [y1]\n",
    "        \n",
    "        for i,m in zip(X,Y):\n",
    "            i = cv2.resize(i,(W,H))\n",
    "            m = cv2.resize(m,(W,H))\n",
    "            \n",
    "            m = m/255\n",
    "            m = (m>0.5)*255\n",
    "            \n",
    "            img_save_name = f\"{name_img}_{idx}.jpg\"\n",
    "            image_save = os.path.join(save_path, \"images\\\\\", img_save_name)\n",
    "            mask_save = os.path.join(save_path, \"masks\\\\\", img_save_name)\n",
    "            \n",
    "\n",
    "            cv2.imwrite(image_save, i)\n",
    "            cv2.imwrite(mask_save,m)\n",
    "            \n",
    "        \n",
    "        \n",
    "    "
   ]
  },
  {
   "cell_type": "code",
   "execution_count": 58,
   "id": "cafbf28e",
   "metadata": {},
   "outputs": [],
   "source": [
    "save_path = r\"C:\\Users\\vanch\\new_aug_try\"\n",
    "create_dir(save_path)"
   ]
  },
  {
   "cell_type": "code",
   "execution_count": 59,
   "id": "765ed82c",
   "metadata": {},
   "outputs": [],
   "source": [
    "augment_data(images_path, mask_path, save_path)"
   ]
  },
  {
   "cell_type": "code",
   "execution_count": null,
   "id": "9c7ab5aa",
   "metadata": {},
   "outputs": [],
   "source": []
  }
 ],
 "metadata": {
  "kernelspec": {
   "display_name": "Python 3 (ipykernel)",
   "language": "python",
   "name": "python3"
  },
  "language_info": {
   "codemirror_mode": {
    "name": "ipython",
    "version": 3
   },
   "file_extension": ".py",
   "mimetype": "text/x-python",
   "name": "python",
   "nbconvert_exporter": "python",
   "pygments_lexer": "ipython3",
   "version": "3.7.13"
  }
 },
 "nbformat": 4,
 "nbformat_minor": 5
}
